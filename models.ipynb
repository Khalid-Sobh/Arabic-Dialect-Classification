{
  "metadata": {
    "kernelspec": {
      "language": "python",
      "display_name": "Python 3",
      "name": "python3"
    },
    "language_info": {
      "name": "python",
      "version": "3.7.12",
      "mimetype": "text/x-python",
      "codemirror_mode": {
        "name": "ipython",
        "version": 3
      },
      "pygments_lexer": "ipython3",
      "nbconvert_exporter": "python",
      "file_extension": ".py"
    },
    "colab": {
      "name": "new.ipynb",
      "provenance": [],
      "collapsed_sections": []
    },
    "accelerator": "GPU"
  },
  "nbformat_minor": 0,
  "nbformat": 4,
  "cells": [
    {
      "cell_type": "code",
      "source": [
        "import tensorflow as tf\n",
        "import re\n",
        "import numpy as np\n",
        "import pandas as pd\n",
        "import matplotlib.pyplot as plt\n",
        "import seaborn as sns\n",
        "\n",
        "from nltk import ngrams\n",
        "\n",
        "from numpy import asarray\n",
        "from numpy import zeros\n",
        "from keras.preprocessing import sequence\n",
        "from keras.callbacks import EarlyStopping\n",
        "from sklearn import metrics \n",
        "from sklearn.metrics import *\n",
        "\n",
        "\n",
        "from tensorflow.keras.utils import plot_model\n",
        "from sklearn.feature_extraction.text import CountVectorizer\n",
        "from keras.preprocessing.text import text_to_word_sequence\n",
        "from sklearn.feature_extraction.text import TfidfVectorizer\n",
        "from keras import models\n",
        "from keras import layers\n",
        "from tensorflow.keras.layers import GRU, Embedding, Dense, Activation, BatchNormalization, concatenate, Input, Dropout, Bidirectional, Flatten,Conv1D, GlobalMaxPooling1D, MaxPooling1D, LSTM\n",
        "from keras.layers import Activation, Conv2D, Input, Embedding, Reshape, MaxPool2D, Concatenate, Flatten, Dropout, Dense, Conv1D\n",
        "from tensorflow.keras.models import Sequential,Model\n",
        "from keras.preprocessing.text import Tokenizer, text_to_word_sequence\n",
        "from keras.preprocessing.sequence import pad_sequences\n",
        "from sklearn.utils import shuffle\n",
        "import gensim\n",
        "from sklearn.model_selection import train_test_split\n",
        "\n",
        "from sklearn.preprocessing import LabelBinarizer \n",
        "import string\n",
        "from nltk.stem.isri import ISRIStemmer\n",
        "import nltk\n",
        "# nltk.download('punkt')\n",
        "from nltk import word_tokenize\n",
        "\n",
        "\n",
        "from keras.preprocessing.text import one_hot \n",
        "from keras.layers.embeddings import Embedding\n",
        "from sklearn.preprocessing import LabelEncoder\n",
        "from tensorflow.keras.utils import to_categorical\n",
        "from tensorflow import keras\n",
        "# import keras\n",
        "import random\n",
        "from keras.callbacks import TensorBoard\n",
        "from keras.callbacks import ModelCheckpoint\n",
        "\n",
        "\n",
        "# text preprossing \n",
        "from sklearn.feature_extraction.text import CountVectorizer\n",
        "from sklearn.feature_extraction.text import TfidfTransformer,TfidfVectorizer\n",
        "from sklearn.pipeline import Pipeline ,make_pipeline\n",
        "from keras.preprocessing.text import Tokenizer\n",
        "\n",
        "from collections import Counter \n",
        "\n",
        "# classifiers \n",
        "from sklearn.linear_model import LogisticRegression\n",
        "from sklearn.naive_bayes import MultinomialNB\n",
        "from sklearn.naive_bayes import GaussianNB\n",
        "from sklearn.svm import LinearSVC\n",
        "from sklearn.svm import SVC\n",
        "from sklearn.linear_model import SGDClassifier"
      ],
      "metadata": {
        "id": "tu7JMfL5xkRC",
        "execution": {
          "iopub.status.busy": "2022-03-14T14:11:32.82701Z",
          "iopub.execute_input": "2022-03-14T14:11:32.827265Z",
          "iopub.status.idle": "2022-03-14T14:11:34.370117Z",
          "shell.execute_reply.started": "2022-03-14T14:11:32.827237Z",
          "shell.execute_reply": "2022-03-14T14:11:34.369403Z"
        },
        "trusted": true
      },
      "execution_count": 1,
      "outputs": []
    },
    {
      "cell_type": "code",
      "source": [
        "from google.colab import drive\n",
        "drive.mount('/content/drive')"
      ],
      "metadata": {
        "colab": {
          "base_uri": "https://localhost:8080/"
        },
        "id": "KBYLKIFRZY-4",
        "outputId": "2d6e85b9-90db-400c-d28e-42ed3d48c094"
      },
      "execution_count": 2,
      "outputs": [
        {
          "output_type": "stream",
          "name": "stdout",
          "text": [
            "Mounted at /content/drive\n"
          ]
        }
      ]
    },
    {
      "cell_type": "code",
      "source": [
        "df=pd.read_csv('/content/drive/MyDrive/colab_data/dialect_tweets.csv')"
      ],
      "metadata": {
        "id": "jqx__n8yxt2s",
        "execution": {
          "iopub.status.busy": "2022-03-14T14:11:34.404781Z",
          "iopub.execute_input": "2022-03-14T14:11:34.405092Z",
          "iopub.status.idle": "2022-03-14T14:11:37.079513Z",
          "shell.execute_reply.started": "2022-03-14T14:11:34.405062Z",
          "shell.execute_reply": "2022-03-14T14:11:37.07873Z"
        },
        "trusted": true
      },
      "execution_count": 3,
      "outputs": []
    },
    {
      "cell_type": "code",
      "source": [
        "df"
      ],
      "metadata": {
        "id": "UmjKGUlgy0Ea",
        "outputId": "63c94455-b71a-465c-b855-b453b0f86bdf",
        "execution": {
          "iopub.status.busy": "2022-03-14T14:11:37.081123Z",
          "iopub.execute_input": "2022-03-14T14:11:37.081408Z",
          "iopub.status.idle": "2022-03-14T14:11:37.103043Z",
          "shell.execute_reply.started": "2022-03-14T14:11:37.081334Z",
          "shell.execute_reply": "2022-03-14T14:11:37.102219Z"
        },
        "trusted": true,
        "colab": {
          "base_uri": "https://localhost:8080/",
          "height": 423
        }
      },
      "execution_count": 4,
      "outputs": [
        {
          "output_type": "execute_result",
          "data": {
            "text/plain": [
              "        Unnamed: 0                   id dialect  \\\n",
              "0                0  1175358310087892992      IQ   \n",
              "1                1  1175416117793349632      IQ   \n",
              "2                2  1175450108898565888      IQ   \n",
              "3                3  1175471073770573824      IQ   \n",
              "4                4  1175496913145217024      IQ   \n",
              "...            ...                  ...     ...   \n",
              "458192      458192  1019484980282580992      BH   \n",
              "458193      458193  1021083283709407232      BH   \n",
              "458194      458194  1017477537889431552      BH   \n",
              "458195      458195  1022430374696239232      BH   \n",
              "458196      458196  1022409931029458944      BH   \n",
              "\n",
              "                                                   tweets  \n",
              "0        @Nw8ieJUwaCAAreT لكن بالنهاية .. ينتفض .. يغير .  \n",
              "1       @7zNqXP0yrODdRjK يعني هذا محسوب على البشر .. ح...  \n",
              "2                         @KanaanRema مبين من كلامه خليجي  \n",
              "3              @HAIDER76128900 يسلملي مرورك وروحك الحلوه💐  \n",
              "4                      @hmo2406 وين هل الغيبه  اخ محمد 🌸🌺  \n",
              "...                                                   ...  \n",
              "458192              @Al_mhbaa_7 مبسوطين منك اللي باسطانا😅  \n",
              "458193       @Zzainabali @P_ameerah والله ماينده ابش يختي  \n",
              "458194  @Al_mhbaa_7 شو عملنا لك حنا تهربي مننا احنا مس...  \n",
              "458195        @haneenalmwla الله يبارك فيها وبالعافيه 😋😋😋  \n",
              "458196          @jolnar121 السحله ضيفي ي بتطلع لك سحليه😅😅  \n",
              "\n",
              "[458197 rows x 4 columns]"
            ],
            "text/html": [
              "\n",
              "  <div id=\"df-2507b469-9cbd-4cc7-8a4a-3c7fa60e0cfc\">\n",
              "    <div class=\"colab-df-container\">\n",
              "      <div>\n",
              "<style scoped>\n",
              "    .dataframe tbody tr th:only-of-type {\n",
              "        vertical-align: middle;\n",
              "    }\n",
              "\n",
              "    .dataframe tbody tr th {\n",
              "        vertical-align: top;\n",
              "    }\n",
              "\n",
              "    .dataframe thead th {\n",
              "        text-align: right;\n",
              "    }\n",
              "</style>\n",
              "<table border=\"1\" class=\"dataframe\">\n",
              "  <thead>\n",
              "    <tr style=\"text-align: right;\">\n",
              "      <th></th>\n",
              "      <th>Unnamed: 0</th>\n",
              "      <th>id</th>\n",
              "      <th>dialect</th>\n",
              "      <th>tweets</th>\n",
              "    </tr>\n",
              "  </thead>\n",
              "  <tbody>\n",
              "    <tr>\n",
              "      <th>0</th>\n",
              "      <td>0</td>\n",
              "      <td>1175358310087892992</td>\n",
              "      <td>IQ</td>\n",
              "      <td>@Nw8ieJUwaCAAreT لكن بالنهاية .. ينتفض .. يغير .</td>\n",
              "    </tr>\n",
              "    <tr>\n",
              "      <th>1</th>\n",
              "      <td>1</td>\n",
              "      <td>1175416117793349632</td>\n",
              "      <td>IQ</td>\n",
              "      <td>@7zNqXP0yrODdRjK يعني هذا محسوب على البشر .. ح...</td>\n",
              "    </tr>\n",
              "    <tr>\n",
              "      <th>2</th>\n",
              "      <td>2</td>\n",
              "      <td>1175450108898565888</td>\n",
              "      <td>IQ</td>\n",
              "      <td>@KanaanRema مبين من كلامه خليجي</td>\n",
              "    </tr>\n",
              "    <tr>\n",
              "      <th>3</th>\n",
              "      <td>3</td>\n",
              "      <td>1175471073770573824</td>\n",
              "      <td>IQ</td>\n",
              "      <td>@HAIDER76128900 يسلملي مرورك وروحك الحلوه💐</td>\n",
              "    </tr>\n",
              "    <tr>\n",
              "      <th>4</th>\n",
              "      <td>4</td>\n",
              "      <td>1175496913145217024</td>\n",
              "      <td>IQ</td>\n",
              "      <td>@hmo2406 وين هل الغيبه  اخ محمد 🌸🌺</td>\n",
              "    </tr>\n",
              "    <tr>\n",
              "      <th>...</th>\n",
              "      <td>...</td>\n",
              "      <td>...</td>\n",
              "      <td>...</td>\n",
              "      <td>...</td>\n",
              "    </tr>\n",
              "    <tr>\n",
              "      <th>458192</th>\n",
              "      <td>458192</td>\n",
              "      <td>1019484980282580992</td>\n",
              "      <td>BH</td>\n",
              "      <td>@Al_mhbaa_7 مبسوطين منك اللي باسطانا😅</td>\n",
              "    </tr>\n",
              "    <tr>\n",
              "      <th>458193</th>\n",
              "      <td>458193</td>\n",
              "      <td>1021083283709407232</td>\n",
              "      <td>BH</td>\n",
              "      <td>@Zzainabali @P_ameerah والله ماينده ابش يختي</td>\n",
              "    </tr>\n",
              "    <tr>\n",
              "      <th>458194</th>\n",
              "      <td>458194</td>\n",
              "      <td>1017477537889431552</td>\n",
              "      <td>BH</td>\n",
              "      <td>@Al_mhbaa_7 شو عملنا لك حنا تهربي مننا احنا مس...</td>\n",
              "    </tr>\n",
              "    <tr>\n",
              "      <th>458195</th>\n",
              "      <td>458195</td>\n",
              "      <td>1022430374696239232</td>\n",
              "      <td>BH</td>\n",
              "      <td>@haneenalmwla الله يبارك فيها وبالعافيه 😋😋😋</td>\n",
              "    </tr>\n",
              "    <tr>\n",
              "      <th>458196</th>\n",
              "      <td>458196</td>\n",
              "      <td>1022409931029458944</td>\n",
              "      <td>BH</td>\n",
              "      <td>@jolnar121 السحله ضيفي ي بتطلع لك سحليه😅😅</td>\n",
              "    </tr>\n",
              "  </tbody>\n",
              "</table>\n",
              "<p>458197 rows × 4 columns</p>\n",
              "</div>\n",
              "      <button class=\"colab-df-convert\" onclick=\"convertToInteractive('df-2507b469-9cbd-4cc7-8a4a-3c7fa60e0cfc')\"\n",
              "              title=\"Convert this dataframe to an interactive table.\"\n",
              "              style=\"display:none;\">\n",
              "        \n",
              "  <svg xmlns=\"http://www.w3.org/2000/svg\" height=\"24px\"viewBox=\"0 0 24 24\"\n",
              "       width=\"24px\">\n",
              "    <path d=\"M0 0h24v24H0V0z\" fill=\"none\"/>\n",
              "    <path d=\"M18.56 5.44l.94 2.06.94-2.06 2.06-.94-2.06-.94-.94-2.06-.94 2.06-2.06.94zm-11 1L8.5 8.5l.94-2.06 2.06-.94-2.06-.94L8.5 2.5l-.94 2.06-2.06.94zm10 10l.94 2.06.94-2.06 2.06-.94-2.06-.94-.94-2.06-.94 2.06-2.06.94z\"/><path d=\"M17.41 7.96l-1.37-1.37c-.4-.4-.92-.59-1.43-.59-.52 0-1.04.2-1.43.59L10.3 9.45l-7.72 7.72c-.78.78-.78 2.05 0 2.83L4 21.41c.39.39.9.59 1.41.59.51 0 1.02-.2 1.41-.59l7.78-7.78 2.81-2.81c.8-.78.8-2.07 0-2.86zM5.41 20L4 18.59l7.72-7.72 1.47 1.35L5.41 20z\"/>\n",
              "  </svg>\n",
              "      </button>\n",
              "      \n",
              "  <style>\n",
              "    .colab-df-container {\n",
              "      display:flex;\n",
              "      flex-wrap:wrap;\n",
              "      gap: 12px;\n",
              "    }\n",
              "\n",
              "    .colab-df-convert {\n",
              "      background-color: #E8F0FE;\n",
              "      border: none;\n",
              "      border-radius: 50%;\n",
              "      cursor: pointer;\n",
              "      display: none;\n",
              "      fill: #1967D2;\n",
              "      height: 32px;\n",
              "      padding: 0 0 0 0;\n",
              "      width: 32px;\n",
              "    }\n",
              "\n",
              "    .colab-df-convert:hover {\n",
              "      background-color: #E2EBFA;\n",
              "      box-shadow: 0px 1px 2px rgba(60, 64, 67, 0.3), 0px 1px 3px 1px rgba(60, 64, 67, 0.15);\n",
              "      fill: #174EA6;\n",
              "    }\n",
              "\n",
              "    [theme=dark] .colab-df-convert {\n",
              "      background-color: #3B4455;\n",
              "      fill: #D2E3FC;\n",
              "    }\n",
              "\n",
              "    [theme=dark] .colab-df-convert:hover {\n",
              "      background-color: #434B5C;\n",
              "      box-shadow: 0px 1px 3px 1px rgba(0, 0, 0, 0.15);\n",
              "      filter: drop-shadow(0px 1px 2px rgba(0, 0, 0, 0.3));\n",
              "      fill: #FFFFFF;\n",
              "    }\n",
              "  </style>\n",
              "\n",
              "      <script>\n",
              "        const buttonEl =\n",
              "          document.querySelector('#df-2507b469-9cbd-4cc7-8a4a-3c7fa60e0cfc button.colab-df-convert');\n",
              "        buttonEl.style.display =\n",
              "          google.colab.kernel.accessAllowed ? 'block' : 'none';\n",
              "\n",
              "        async function convertToInteractive(key) {\n",
              "          const element = document.querySelector('#df-2507b469-9cbd-4cc7-8a4a-3c7fa60e0cfc');\n",
              "          const dataTable =\n",
              "            await google.colab.kernel.invokeFunction('convertToInteractive',\n",
              "                                                     [key], {});\n",
              "          if (!dataTable) return;\n",
              "\n",
              "          const docLinkHtml = 'Like what you see? Visit the ' +\n",
              "            '<a target=\"_blank\" href=https://colab.research.google.com/notebooks/data_table.ipynb>data table notebook</a>'\n",
              "            + ' to learn more about interactive tables.';\n",
              "          element.innerHTML = '';\n",
              "          dataTable['output_type'] = 'display_data';\n",
              "          await google.colab.output.renderOutput(dataTable, element);\n",
              "          const docLink = document.createElement('div');\n",
              "          docLink.innerHTML = docLinkHtml;\n",
              "          element.appendChild(docLink);\n",
              "        }\n",
              "      </script>\n",
              "    </div>\n",
              "  </div>\n",
              "  "
            ]
          },
          "metadata": {},
          "execution_count": 4
        }
      ]
    },
    {
      "cell_type": "code",
      "source": [
        "df=df.drop(labels='Unnamed: 0', axis=1)\n",
        "df['dialect'] = df['dialect'].astype('category')\n",
        "df.info()"
      ],
      "metadata": {
        "id": "jBo_4L7My8W5",
        "outputId": "c4925e54-8416-4524-cf58-9d70cbf8274b",
        "execution": {
          "iopub.status.busy": "2022-03-14T14:11:37.104588Z",
          "iopub.execute_input": "2022-03-14T14:11:37.104926Z",
          "iopub.status.idle": "2022-03-14T14:11:37.250049Z",
          "shell.execute_reply.started": "2022-03-14T14:11:37.104884Z",
          "shell.execute_reply": "2022-03-14T14:11:37.249351Z"
        },
        "trusted": true,
        "colab": {
          "base_uri": "https://localhost:8080/"
        }
      },
      "execution_count": 5,
      "outputs": [
        {
          "output_type": "stream",
          "name": "stdout",
          "text": [
            "<class 'pandas.core.frame.DataFrame'>\n",
            "RangeIndex: 458197 entries, 0 to 458196\n",
            "Data columns (total 3 columns):\n",
            " #   Column   Non-Null Count   Dtype   \n",
            "---  ------   --------------   -----   \n",
            " 0   id       458197 non-null  int64   \n",
            " 1   dialect  458197 non-null  category\n",
            " 2   tweets   458197 non-null  object  \n",
            "dtypes: category(1), int64(1), object(1)\n",
            "memory usage: 7.4+ MB\n"
          ]
        }
      ]
    },
    {
      "cell_type": "code",
      "source": [
        "def data_cleaning (text):\n",
        "    text= re.sub(r\"@\\S+\", '', text )\n",
        "    text=re.sub(r\"htt\\S+\", '', text )\n",
        "    text=re.sub(r'ه{3,}','ههه', text )\n",
        "    text=re.sub(r\"^ +\", '', text )\n",
        "    text=re.sub(r\" +$\", '', text )\n",
        "    text=re.sub(r\"[a-zA-Z]+\", ' ', text )\n",
        "\n",
        "    text=re.sub(r\"\\n+\", ' ', text )\n",
        "    text=re.sub(r\"[-+*><&%$#=@/^/[/|\\]/{}()!\\\\?؟'\\\"،:~;.,_÷]+\", ' ', text )\n",
        "    text=re.sub(r\"\\d+\", ' ', text )\n",
        "    text=re.sub(r\"[.]+\", ' ', text )\n",
        "\n",
        "    EMOJI_PATTERN = re.compile(\"[\"\n",
        "        u\"\\U0001F600-\\U0001F64F\"  # emoticons\n",
        "        u\"\\U0001F300-\\U0001F5FF\"  # symbols & pictographs\n",
        "        u\"\\U0001F680-\\U0001F6FF\"  # transport & map symbols\n",
        "        u\"\\U0001F1E0-\\U0001F1FF\"  # flags (iOS)\n",
        "        u\"\\U00002500-\\U00002BEF\"  # chinese char\n",
        "        u\"\\U00002702-\\U000027B0\"\n",
        "        u\"\\U00002702-\\U000027B0\"\n",
        "        u\"\\U000024C2-\\U0001F251\"\n",
        "        u\"\\U0001f926-\\U0001f937\"\n",
        "        u\"\\U00010000-\\U0010ffff\"\n",
        "        u\"\\u2640-\\u2642\" \n",
        "        u\"\\u2600-\\u2B55\"\n",
        "        u\"\\u200d\"\n",
        "        u\"\\u23cf\"\n",
        "        u\"\\u23e9\"\n",
        "        u\"\\u231a\"\n",
        "        u\"\\ufe0f\"  # dingbats\n",
        "        u\"\\u3030\"\n",
        "                      \"]+\", re.UNICODE)\n",
        "\n",
        "    text=EMOJI_PATTERN.sub( r'', text )\n",
        "\n",
        "    text=re.sub(r\" {2,}\", ' ', text )\n",
        "\n",
        "    return text"
      ],
      "metadata": {
        "id": "69sLU6KXzAWp",
        "execution": {
          "iopub.status.busy": "2022-03-14T14:11:37.251624Z",
          "iopub.execute_input": "2022-03-14T14:11:37.252358Z",
          "iopub.status.idle": "2022-03-14T14:11:37.261738Z",
          "shell.execute_reply.started": "2022-03-14T14:11:37.252316Z",
          "shell.execute_reply": "2022-03-14T14:11:37.260601Z"
        },
        "trusted": true
      },
      "execution_count": 6,
      "outputs": []
    },
    {
      "cell_type": "code",
      "source": [
        "df['tweets']=df['tweets'].apply(data_cleaning)\n",
        "df"
      ],
      "metadata": {
        "id": "OytQu3MlzA25",
        "outputId": "36692cf8-f45e-4137-e24a-5da2dba94878",
        "execution": {
          "iopub.status.busy": "2022-03-14T14:11:37.269988Z",
          "iopub.execute_input": "2022-03-14T14:11:37.271366Z",
          "iopub.status.idle": "2022-03-14T14:11:55.406121Z",
          "shell.execute_reply.started": "2022-03-14T14:11:37.271327Z",
          "shell.execute_reply": "2022-03-14T14:11:55.40539Z"
        },
        "trusted": true,
        "colab": {
          "base_uri": "https://localhost:8080/",
          "height": 423
        }
      },
      "execution_count": 7,
      "outputs": [
        {
          "output_type": "execute_result",
          "data": {
            "text/plain": [
              "                         id dialect  \\\n",
              "0       1175358310087892992      IQ   \n",
              "1       1175416117793349632      IQ   \n",
              "2       1175450108898565888      IQ   \n",
              "3       1175471073770573824      IQ   \n",
              "4       1175496913145217024      IQ   \n",
              "...                     ...     ...   \n",
              "458192  1019484980282580992      BH   \n",
              "458193  1021083283709407232      BH   \n",
              "458194  1017477537889431552      BH   \n",
              "458195  1022430374696239232      BH   \n",
              "458196  1022409931029458944      BH   \n",
              "\n",
              "                                                   tweets  \n",
              "0                                لكن بالنهاية ينتفض يغير   \n",
              "1       يعني هذا محسوب على البشر حيونه ووحشيه وتطلبون ...  \n",
              "2                                     مبين من كلامه خليجي  \n",
              "3                               يسلملي مرورك وروحك الحلوه  \n",
              "4                                  وين هل الغيبه اخ محمد   \n",
              "...                                                   ...  \n",
              "458192                           مبسوطين منك اللي باسطانا  \n",
              "458193                              والله ماينده ابش يختي  \n",
              "458194  شو عملنا لك حنا تهربي مننا احنا مساكين ليش بتع...  \n",
              "458195                         الله يبارك فيها وبالعافيه   \n",
              "458196                       السحله ضيفي ي بتطلع لك سحليه  \n",
              "\n",
              "[458197 rows x 3 columns]"
            ],
            "text/html": [
              "\n",
              "  <div id=\"df-55c9de07-d34f-4420-a800-85907d1e7a16\">\n",
              "    <div class=\"colab-df-container\">\n",
              "      <div>\n",
              "<style scoped>\n",
              "    .dataframe tbody tr th:only-of-type {\n",
              "        vertical-align: middle;\n",
              "    }\n",
              "\n",
              "    .dataframe tbody tr th {\n",
              "        vertical-align: top;\n",
              "    }\n",
              "\n",
              "    .dataframe thead th {\n",
              "        text-align: right;\n",
              "    }\n",
              "</style>\n",
              "<table border=\"1\" class=\"dataframe\">\n",
              "  <thead>\n",
              "    <tr style=\"text-align: right;\">\n",
              "      <th></th>\n",
              "      <th>id</th>\n",
              "      <th>dialect</th>\n",
              "      <th>tweets</th>\n",
              "    </tr>\n",
              "  </thead>\n",
              "  <tbody>\n",
              "    <tr>\n",
              "      <th>0</th>\n",
              "      <td>1175358310087892992</td>\n",
              "      <td>IQ</td>\n",
              "      <td>لكن بالنهاية ينتفض يغير</td>\n",
              "    </tr>\n",
              "    <tr>\n",
              "      <th>1</th>\n",
              "      <td>1175416117793349632</td>\n",
              "      <td>IQ</td>\n",
              "      <td>يعني هذا محسوب على البشر حيونه ووحشيه وتطلبون ...</td>\n",
              "    </tr>\n",
              "    <tr>\n",
              "      <th>2</th>\n",
              "      <td>1175450108898565888</td>\n",
              "      <td>IQ</td>\n",
              "      <td>مبين من كلامه خليجي</td>\n",
              "    </tr>\n",
              "    <tr>\n",
              "      <th>3</th>\n",
              "      <td>1175471073770573824</td>\n",
              "      <td>IQ</td>\n",
              "      <td>يسلملي مرورك وروحك الحلوه</td>\n",
              "    </tr>\n",
              "    <tr>\n",
              "      <th>4</th>\n",
              "      <td>1175496913145217024</td>\n",
              "      <td>IQ</td>\n",
              "      <td>وين هل الغيبه اخ محمد</td>\n",
              "    </tr>\n",
              "    <tr>\n",
              "      <th>...</th>\n",
              "      <td>...</td>\n",
              "      <td>...</td>\n",
              "      <td>...</td>\n",
              "    </tr>\n",
              "    <tr>\n",
              "      <th>458192</th>\n",
              "      <td>1019484980282580992</td>\n",
              "      <td>BH</td>\n",
              "      <td>مبسوطين منك اللي باسطانا</td>\n",
              "    </tr>\n",
              "    <tr>\n",
              "      <th>458193</th>\n",
              "      <td>1021083283709407232</td>\n",
              "      <td>BH</td>\n",
              "      <td>والله ماينده ابش يختي</td>\n",
              "    </tr>\n",
              "    <tr>\n",
              "      <th>458194</th>\n",
              "      <td>1017477537889431552</td>\n",
              "      <td>BH</td>\n",
              "      <td>شو عملنا لك حنا تهربي مننا احنا مساكين ليش بتع...</td>\n",
              "    </tr>\n",
              "    <tr>\n",
              "      <th>458195</th>\n",
              "      <td>1022430374696239232</td>\n",
              "      <td>BH</td>\n",
              "      <td>الله يبارك فيها وبالعافيه</td>\n",
              "    </tr>\n",
              "    <tr>\n",
              "      <th>458196</th>\n",
              "      <td>1022409931029458944</td>\n",
              "      <td>BH</td>\n",
              "      <td>السحله ضيفي ي بتطلع لك سحليه</td>\n",
              "    </tr>\n",
              "  </tbody>\n",
              "</table>\n",
              "<p>458197 rows × 3 columns</p>\n",
              "</div>\n",
              "      <button class=\"colab-df-convert\" onclick=\"convertToInteractive('df-55c9de07-d34f-4420-a800-85907d1e7a16')\"\n",
              "              title=\"Convert this dataframe to an interactive table.\"\n",
              "              style=\"display:none;\">\n",
              "        \n",
              "  <svg xmlns=\"http://www.w3.org/2000/svg\" height=\"24px\"viewBox=\"0 0 24 24\"\n",
              "       width=\"24px\">\n",
              "    <path d=\"M0 0h24v24H0V0z\" fill=\"none\"/>\n",
              "    <path d=\"M18.56 5.44l.94 2.06.94-2.06 2.06-.94-2.06-.94-.94-2.06-.94 2.06-2.06.94zm-11 1L8.5 8.5l.94-2.06 2.06-.94-2.06-.94L8.5 2.5l-.94 2.06-2.06.94zm10 10l.94 2.06.94-2.06 2.06-.94-2.06-.94-.94-2.06-.94 2.06-2.06.94z\"/><path d=\"M17.41 7.96l-1.37-1.37c-.4-.4-.92-.59-1.43-.59-.52 0-1.04.2-1.43.59L10.3 9.45l-7.72 7.72c-.78.78-.78 2.05 0 2.83L4 21.41c.39.39.9.59 1.41.59.51 0 1.02-.2 1.41-.59l7.78-7.78 2.81-2.81c.8-.78.8-2.07 0-2.86zM5.41 20L4 18.59l7.72-7.72 1.47 1.35L5.41 20z\"/>\n",
              "  </svg>\n",
              "      </button>\n",
              "      \n",
              "  <style>\n",
              "    .colab-df-container {\n",
              "      display:flex;\n",
              "      flex-wrap:wrap;\n",
              "      gap: 12px;\n",
              "    }\n",
              "\n",
              "    .colab-df-convert {\n",
              "      background-color: #E8F0FE;\n",
              "      border: none;\n",
              "      border-radius: 50%;\n",
              "      cursor: pointer;\n",
              "      display: none;\n",
              "      fill: #1967D2;\n",
              "      height: 32px;\n",
              "      padding: 0 0 0 0;\n",
              "      width: 32px;\n",
              "    }\n",
              "\n",
              "    .colab-df-convert:hover {\n",
              "      background-color: #E2EBFA;\n",
              "      box-shadow: 0px 1px 2px rgba(60, 64, 67, 0.3), 0px 1px 3px 1px rgba(60, 64, 67, 0.15);\n",
              "      fill: #174EA6;\n",
              "    }\n",
              "\n",
              "    [theme=dark] .colab-df-convert {\n",
              "      background-color: #3B4455;\n",
              "      fill: #D2E3FC;\n",
              "    }\n",
              "\n",
              "    [theme=dark] .colab-df-convert:hover {\n",
              "      background-color: #434B5C;\n",
              "      box-shadow: 0px 1px 3px 1px rgba(0, 0, 0, 0.15);\n",
              "      filter: drop-shadow(0px 1px 2px rgba(0, 0, 0, 0.3));\n",
              "      fill: #FFFFFF;\n",
              "    }\n",
              "  </style>\n",
              "\n",
              "      <script>\n",
              "        const buttonEl =\n",
              "          document.querySelector('#df-55c9de07-d34f-4420-a800-85907d1e7a16 button.colab-df-convert');\n",
              "        buttonEl.style.display =\n",
              "          google.colab.kernel.accessAllowed ? 'block' : 'none';\n",
              "\n",
              "        async function convertToInteractive(key) {\n",
              "          const element = document.querySelector('#df-55c9de07-d34f-4420-a800-85907d1e7a16');\n",
              "          const dataTable =\n",
              "            await google.colab.kernel.invokeFunction('convertToInteractive',\n",
              "                                                     [key], {});\n",
              "          if (!dataTable) return;\n",
              "\n",
              "          const docLinkHtml = 'Like what you see? Visit the ' +\n",
              "            '<a target=\"_blank\" href=https://colab.research.google.com/notebooks/data_table.ipynb>data table notebook</a>'\n",
              "            + ' to learn more about interactive tables.';\n",
              "          element.innerHTML = '';\n",
              "          dataTable['output_type'] = 'display_data';\n",
              "          await google.colab.output.renderOutput(dataTable, element);\n",
              "          const docLink = document.createElement('div');\n",
              "          docLink.innerHTML = docLinkHtml;\n",
              "          element.appendChild(docLink);\n",
              "        }\n",
              "      </script>\n",
              "    </div>\n",
              "  </div>\n",
              "  "
            ]
          },
          "metadata": {},
          "execution_count": 7
        }
      ]
    },
    {
      "cell_type": "code",
      "source": [
        "df = shuffle(df)\n",
        "df"
      ],
      "metadata": {
        "id": "qHznVrg23ZDJ",
        "outputId": "5910d492-2d17-4157-e7d6-ca487f4bdf38",
        "execution": {
          "iopub.status.busy": "2022-03-14T14:11:55.407857Z",
          "iopub.execute_input": "2022-03-14T14:11:55.408317Z",
          "iopub.status.idle": "2022-03-14T14:11:55.498161Z",
          "shell.execute_reply.started": "2022-03-14T14:11:55.408278Z",
          "shell.execute_reply": "2022-03-14T14:11:55.497293Z"
        },
        "trusted": true,
        "colab": {
          "base_uri": "https://localhost:8080/",
          "height": 423
        }
      },
      "execution_count": 8,
      "outputs": [
        {
          "output_type": "execute_result",
          "data": {
            "text/plain": [
              "                         id dialect  \\\n",
              "187088   720349312442638336      MA   \n",
              "449669   918808545440747648      BH   \n",
              "6567    1132802351109202048      IQ   \n",
              "353792  1176474035288510464      KW   \n",
              "416288   963065473716948992      AE   \n",
              "...                     ...     ...   \n",
              "326611   880807542871531520      LB   \n",
              "10677    966284184376561664      IQ   \n",
              "258402   917892478983901184      EG   \n",
              "214753  1092733887225180160      SA   \n",
              "3195     741043182079750144      IQ   \n",
              "\n",
              "                                                   tweets  \n",
              "187088  ههه واهو موكيط حمرا وجاتو غالية نقصها عليه من ...  \n",
              "449669                اي والله حريجة ضخمة تبين من كل مكان  \n",
              "6567    شكد احب الديمقراطيه طبعا فعلا تعتبر اعظم انجاز...  \n",
              "353792                    بهذي الديرة وايد لازم تدعي لهم   \n",
              "416288       نام وأحلم بكل ما سبق بتحصله وبتشوفه وبتعيشه   \n",
              "...                                                   ...  \n",
              "326611  نضف كلامك لما تجيب اسم الله على لسانك حرام هال...  \n",
              "10677   مثل فرفاح طير عليك اصيرن لمن يذكرون اسمك امامي...  \n",
              "258402                            هما مالهم جرى لهم اايه   \n",
              "214753  ياليت يمنعون مكبرات الصوت المزعجة التشجيع الجم...  \n",
              "3195          احنه الزمن نصفعه مو عاد عاق بابوه تحياتي لك  \n",
              "\n",
              "[458197 rows x 3 columns]"
            ],
            "text/html": [
              "\n",
              "  <div id=\"df-7af1be74-0adb-4761-b263-3f20e83484db\">\n",
              "    <div class=\"colab-df-container\">\n",
              "      <div>\n",
              "<style scoped>\n",
              "    .dataframe tbody tr th:only-of-type {\n",
              "        vertical-align: middle;\n",
              "    }\n",
              "\n",
              "    .dataframe tbody tr th {\n",
              "        vertical-align: top;\n",
              "    }\n",
              "\n",
              "    .dataframe thead th {\n",
              "        text-align: right;\n",
              "    }\n",
              "</style>\n",
              "<table border=\"1\" class=\"dataframe\">\n",
              "  <thead>\n",
              "    <tr style=\"text-align: right;\">\n",
              "      <th></th>\n",
              "      <th>id</th>\n",
              "      <th>dialect</th>\n",
              "      <th>tweets</th>\n",
              "    </tr>\n",
              "  </thead>\n",
              "  <tbody>\n",
              "    <tr>\n",
              "      <th>187088</th>\n",
              "      <td>720349312442638336</td>\n",
              "      <td>MA</td>\n",
              "      <td>ههه واهو موكيط حمرا وجاتو غالية نقصها عليه من ...</td>\n",
              "    </tr>\n",
              "    <tr>\n",
              "      <th>449669</th>\n",
              "      <td>918808545440747648</td>\n",
              "      <td>BH</td>\n",
              "      <td>اي والله حريجة ضخمة تبين من كل مكان</td>\n",
              "    </tr>\n",
              "    <tr>\n",
              "      <th>6567</th>\n",
              "      <td>1132802351109202048</td>\n",
              "      <td>IQ</td>\n",
              "      <td>شكد احب الديمقراطيه طبعا فعلا تعتبر اعظم انجاز...</td>\n",
              "    </tr>\n",
              "    <tr>\n",
              "      <th>353792</th>\n",
              "      <td>1176474035288510464</td>\n",
              "      <td>KW</td>\n",
              "      <td>بهذي الديرة وايد لازم تدعي لهم</td>\n",
              "    </tr>\n",
              "    <tr>\n",
              "      <th>416288</th>\n",
              "      <td>963065473716948992</td>\n",
              "      <td>AE</td>\n",
              "      <td>نام وأحلم بكل ما سبق بتحصله وبتشوفه وبتعيشه</td>\n",
              "    </tr>\n",
              "    <tr>\n",
              "      <th>...</th>\n",
              "      <td>...</td>\n",
              "      <td>...</td>\n",
              "      <td>...</td>\n",
              "    </tr>\n",
              "    <tr>\n",
              "      <th>326611</th>\n",
              "      <td>880807542871531520</td>\n",
              "      <td>LB</td>\n",
              "      <td>نضف كلامك لما تجيب اسم الله على لسانك حرام هال...</td>\n",
              "    </tr>\n",
              "    <tr>\n",
              "      <th>10677</th>\n",
              "      <td>966284184376561664</td>\n",
              "      <td>IQ</td>\n",
              "      <td>مثل فرفاح طير عليك اصيرن لمن يذكرون اسمك امامي...</td>\n",
              "    </tr>\n",
              "    <tr>\n",
              "      <th>258402</th>\n",
              "      <td>917892478983901184</td>\n",
              "      <td>EG</td>\n",
              "      <td>هما مالهم جرى لهم اايه</td>\n",
              "    </tr>\n",
              "    <tr>\n",
              "      <th>214753</th>\n",
              "      <td>1092733887225180160</td>\n",
              "      <td>SA</td>\n",
              "      <td>ياليت يمنعون مكبرات الصوت المزعجة التشجيع الجم...</td>\n",
              "    </tr>\n",
              "    <tr>\n",
              "      <th>3195</th>\n",
              "      <td>741043182079750144</td>\n",
              "      <td>IQ</td>\n",
              "      <td>احنه الزمن نصفعه مو عاد عاق بابوه تحياتي لك</td>\n",
              "    </tr>\n",
              "  </tbody>\n",
              "</table>\n",
              "<p>458197 rows × 3 columns</p>\n",
              "</div>\n",
              "      <button class=\"colab-df-convert\" onclick=\"convertToInteractive('df-7af1be74-0adb-4761-b263-3f20e83484db')\"\n",
              "              title=\"Convert this dataframe to an interactive table.\"\n",
              "              style=\"display:none;\">\n",
              "        \n",
              "  <svg xmlns=\"http://www.w3.org/2000/svg\" height=\"24px\"viewBox=\"0 0 24 24\"\n",
              "       width=\"24px\">\n",
              "    <path d=\"M0 0h24v24H0V0z\" fill=\"none\"/>\n",
              "    <path d=\"M18.56 5.44l.94 2.06.94-2.06 2.06-.94-2.06-.94-.94-2.06-.94 2.06-2.06.94zm-11 1L8.5 8.5l.94-2.06 2.06-.94-2.06-.94L8.5 2.5l-.94 2.06-2.06.94zm10 10l.94 2.06.94-2.06 2.06-.94-2.06-.94-.94-2.06-.94 2.06-2.06.94z\"/><path d=\"M17.41 7.96l-1.37-1.37c-.4-.4-.92-.59-1.43-.59-.52 0-1.04.2-1.43.59L10.3 9.45l-7.72 7.72c-.78.78-.78 2.05 0 2.83L4 21.41c.39.39.9.59 1.41.59.51 0 1.02-.2 1.41-.59l7.78-7.78 2.81-2.81c.8-.78.8-2.07 0-2.86zM5.41 20L4 18.59l7.72-7.72 1.47 1.35L5.41 20z\"/>\n",
              "  </svg>\n",
              "      </button>\n",
              "      \n",
              "  <style>\n",
              "    .colab-df-container {\n",
              "      display:flex;\n",
              "      flex-wrap:wrap;\n",
              "      gap: 12px;\n",
              "    }\n",
              "\n",
              "    .colab-df-convert {\n",
              "      background-color: #E8F0FE;\n",
              "      border: none;\n",
              "      border-radius: 50%;\n",
              "      cursor: pointer;\n",
              "      display: none;\n",
              "      fill: #1967D2;\n",
              "      height: 32px;\n",
              "      padding: 0 0 0 0;\n",
              "      width: 32px;\n",
              "    }\n",
              "\n",
              "    .colab-df-convert:hover {\n",
              "      background-color: #E2EBFA;\n",
              "      box-shadow: 0px 1px 2px rgba(60, 64, 67, 0.3), 0px 1px 3px 1px rgba(60, 64, 67, 0.15);\n",
              "      fill: #174EA6;\n",
              "    }\n",
              "\n",
              "    [theme=dark] .colab-df-convert {\n",
              "      background-color: #3B4455;\n",
              "      fill: #D2E3FC;\n",
              "    }\n",
              "\n",
              "    [theme=dark] .colab-df-convert:hover {\n",
              "      background-color: #434B5C;\n",
              "      box-shadow: 0px 1px 3px 1px rgba(0, 0, 0, 0.15);\n",
              "      filter: drop-shadow(0px 1px 2px rgba(0, 0, 0, 0.3));\n",
              "      fill: #FFFFFF;\n",
              "    }\n",
              "  </style>\n",
              "\n",
              "      <script>\n",
              "        const buttonEl =\n",
              "          document.querySelector('#df-7af1be74-0adb-4761-b263-3f20e83484db button.colab-df-convert');\n",
              "        buttonEl.style.display =\n",
              "          google.colab.kernel.accessAllowed ? 'block' : 'none';\n",
              "\n",
              "        async function convertToInteractive(key) {\n",
              "          const element = document.querySelector('#df-7af1be74-0adb-4761-b263-3f20e83484db');\n",
              "          const dataTable =\n",
              "            await google.colab.kernel.invokeFunction('convertToInteractive',\n",
              "                                                     [key], {});\n",
              "          if (!dataTable) return;\n",
              "\n",
              "          const docLinkHtml = 'Like what you see? Visit the ' +\n",
              "            '<a target=\"_blank\" href=https://colab.research.google.com/notebooks/data_table.ipynb>data table notebook</a>'\n",
              "            + ' to learn more about interactive tables.';\n",
              "          element.innerHTML = '';\n",
              "          dataTable['output_type'] = 'display_data';\n",
              "          await google.colab.output.renderOutput(dataTable, element);\n",
              "          const docLink = document.createElement('div');\n",
              "          docLink.innerHTML = docLinkHtml;\n",
              "          element.appendChild(docLink);\n",
              "        }\n",
              "      </script>\n",
              "    </div>\n",
              "  </div>\n",
              "  "
            ]
          },
          "metadata": {},
          "execution_count": 8
        }
      ]
    },
    {
      "cell_type": "markdown",
      "source": [
        "# EDA"
      ],
      "metadata": {
        "id": "RbPCM14oZV3O"
      }
    },
    {
      "cell_type": "code",
      "source": [
        "# sns.set_theme(style=\"darkgrid\")\n",
        "plt.figure(figsize=(15,5))\n",
        "ax = sns.countplot(data=df , x=\"dialect\")"
      ],
      "metadata": {
        "execution": {
          "iopub.status.busy": "2022-03-14T13:38:53.428176Z",
          "iopub.status.idle": "2022-03-14T13:38:53.428592Z",
          "shell.execute_reply.started": "2022-03-14T13:38:53.428359Z",
          "shell.execute_reply": "2022-03-14T13:38:53.428381Z"
        },
        "trusted": true,
        "colab": {
          "base_uri": "https://localhost:8080/",
          "height": 335
        },
        "id": "AcwzXOivZV3P",
        "outputId": "4ad6f44f-a030-4602-cb21-73c0986260b8"
      },
      "execution_count": 9,
      "outputs": [
        {
          "output_type": "display_data",
          "data": {
            "text/plain": [
              "<Figure size 1080x360 with 1 Axes>"
            ],
            "image/png": "[encoded data removed]"
          },
          "metadata": {
            "needs_background": "light"
          }
        }
      ]
    },
    {
      "cell_type": "code",
      "source": [
        "# number of words in tweets\n",
        "plt.hist([len(s) for s in df['tweets']], bins=50)\n",
        "plt.show()"
      ],
      "metadata": {
        "execution": {
          "iopub.status.busy": "2022-03-14T13:38:53.429984Z",
          "iopub.status.idle": "2022-03-14T13:38:53.430405Z",
          "shell.execute_reply.started": "2022-03-14T13:38:53.43016Z",
          "shell.execute_reply": "2022-03-14T13:38:53.430182Z"
        },
        "trusted": true,
        "colab": {
          "base_uri": "https://localhost:8080/",
          "height": 265
        },
        "id": "6LLYqBAxZV3P",
        "outputId": "eb551c2f-00e2-4d9c-a6b8-c7e8b14e2276"
      },
      "execution_count": 10,
      "outputs": [
        {
          "output_type": "display_data",
          "data": {
            "text/plain": [
              "<Figure size 432x288 with 1 Axes>"
            ],
            "image/png": "[encoded data removed]"
          },
          "metadata": {
            "needs_background": "light"
          }
        }
      ]
    },
    {
      "cell_type": "markdown",
      "source": [
        "gonna choose max number of words to be 50 to reduce computations ,\n",
        "50 words should be enough for this problem"
      ],
      "metadata": {
        "id": "NSPF9zbVZV3Q"
      }
    },
    {
      "cell_type": "markdown",
      "source": [
        "**top 10 words for each dialect :**"
      ],
      "metadata": {
        "id": "h4ABeoolZV3Q"
      }
    },
    {
      "cell_type": "code",
      "source": [
        "unique_classes=list(df['dialect'].unique())\n",
        "unique_classes\n",
        "\n",
        "for i in unique_classes:\n",
        "    df1=df.loc[df[\"dialect\"]==i]\n",
        "    print(f'top 10 words for {i}')\n",
        "    print(Counter(\" \".join(df1[\"tweets\"]).split()).most_common(10) ,'\\n')"
      ],
      "metadata": {
        "execution": {
          "iopub.status.busy": "2022-03-14T13:38:53.431906Z",
          "iopub.status.idle": "2022-03-14T13:38:53.432295Z",
          "shell.execute_reply.started": "2022-03-14T13:38:53.43208Z",
          "shell.execute_reply": "2022-03-14T13:38:53.432101Z"
        },
        "trusted": true,
        "colab": {
          "base_uri": "https://localhost:8080/"
        },
        "id": "YGaIghBtZV3R",
        "outputId": "e249f25c-b93d-4dbf-aa0a-f9933297f9c4"
      },
      "execution_count": 11,
      "outputs": [
        {
          "output_type": "stream",
          "name": "stdout",
          "text": [
            "top 10 words for MA\n",
            "[('و', 2224), ('من', 1989), ('الله', 1499), ('على', 1434), ('ههه', 1377), ('في', 1317), ('لي', 1234), ('انا', 1132), ('غير', 1085), ('اللي', 1011)] \n",
            "\n",
            "top 10 words for BH\n",
            "[('من', 5699), ('في', 4777), ('ما', 4587), ('اللي', 3688), ('و', 3507), ('على', 2903), ('الله', 2827), ('بس', 2520), ('يا', 2246), ('لا', 1836)] \n",
            "\n",
            "top 10 words for IQ\n",
            "[('من', 3247), ('بس', 2035), ('ما', 2020), ('مو', 1641), ('على', 1536), ('اللي', 1456), ('الله', 1170), ('لو', 1059), ('والله', 990), ('ههه', 932)] \n",
            "\n",
            "top 10 words for KW\n",
            "[('من', 10482), ('اللي', 7477), ('ما', 6556), ('و', 5705), ('الله', 5617), ('على', 4964), ('في', 4320), ('بس', 4258), ('مو', 3699), ('كل', 3028)] \n",
            "\n",
            "top 10 words for AE\n",
            "[('من', 6497), ('ما', 5677), ('و', 5167), ('في', 5041), ('اللي', 4516), ('الله', 3957), ('على', 3205), ('بس', 2204), ('يا', 2124), ('كل', 1821)] \n",
            "\n",
            "top 10 words for EG\n",
            "[('من', 12240), ('مش', 10970), ('في', 10475), ('اللي', 9634), ('يا', 8872), ('ده', 8526), ('و', 8277), ('بس', 6284), ('على', 5692), ('انا', 5649)] \n",
            "\n",
            "top 10 words for PL\n",
            "[('ما', 7915), ('من', 7630), ('مش', 5732), ('بس', 5669), ('في', 5110), ('يا', 5019), ('اللي', 4507), ('الله', 4412), ('انا', 3758), ('و', 3646)] \n",
            "\n",
            "top 10 words for LB\n",
            "[('ما', 9356), ('من', 5813), ('بس', 4290), ('و', 4202), ('عم', 3513), ('يا', 3472), ('مش', 3331), ('شو', 2656), ('على', 2621), ('في', 2533)] \n",
            "\n",
            "top 10 words for OM\n",
            "[('ما', 4924), ('من', 4114), ('اللي', 2686), ('في', 2075), ('الله', 2044), ('بس', 1557), ('و', 1447), ('على', 1444), ('شي', 1331), ('كل', 1252)] \n",
            "\n",
            "top 10 words for QA\n",
            "[('من', 9063), ('في', 6957), ('ما', 4970), ('على', 4740), ('الله', 4566), ('اللي', 4541), ('و', 4304), ('بس', 3186), ('قطر', 2862), ('ولا', 2673)] \n",
            "\n",
            "top 10 words for TN\n",
            "[('و', 3811), ('في', 2854), ('من', 1779), ('ما', 1523), ('يا', 1389), ('على', 1381), ('اللي', 1195), ('الله', 997), ('مش', 714), ('كل', 656)] \n",
            "\n",
            "top 10 words for JO\n",
            "[('ما', 6021), ('من', 5021), ('و', 4831), ('بس', 3789), ('يا', 3269), ('الله', 3232), ('اللي', 2824), ('في', 2785), ('مش', 2685), ('على', 2475)] \n",
            "\n",
            "top 10 words for DZ\n",
            "[('و', 3579), ('في', 2839), ('من', 2625), ('ههه', 2346), ('الله', 2041), ('ما', 1890), ('على', 1550), ('يا', 1477), ('انا', 1441), ('مش', 1246)] \n",
            "\n",
            "top 10 words for SA\n",
            "[('من', 6768), ('اللي', 4904), ('الله', 4783), ('في', 4245), ('على', 3526), ('و', 2988), ('ما', 2431), ('بس', 1829), ('كل', 1818), ('ولا', 1716)] \n",
            "\n",
            "top 10 words for LY\n",
            "[('في', 10080), ('من', 7833), ('اللي', 5966), ('و', 5663), ('مش', 4054), ('ما', 3648), ('الله', 3385), ('يا', 3124), ('بس', 2959), ('ههه', 2299)] \n",
            "\n",
            "top 10 words for SY\n",
            "[('من', 3355), ('ما', 2738), ('و', 2050), ('بس', 2050), ('الله', 1758), ('يا', 1490), ('اللي', 1437), ('على', 1376), ('شو', 1297), ('عم', 1272)] \n",
            "\n",
            "top 10 words for SD\n",
            "[('في', 4065), ('ما', 3631), ('من', 2876), ('دي', 2360), ('دا', 1696), ('يا', 1620), ('بس', 1548), ('و', 1430), ('انا', 1308), ('ده', 1229)] \n",
            "\n",
            "top 10 words for YE\n",
            "[('من', 2206), ('في', 1186), ('اللي', 1107), ('الله', 1040), ('ما', 1029), ('على', 1014), ('بس', 756), ('يا', 754), ('و', 733), ('ههه', 659)] \n",
            "\n"
          ]
        }
      ]
    },
    {
      "cell_type": "markdown",
      "source": [
        "spliting data"
      ],
      "metadata": {
        "id": "OjF_OfzuZV3R"
      }
    },
    {
      "cell_type": "code",
      "source": [
        "X=df.tweets\n",
        "y=df.dialect\n",
        "X_train, X_test, y_train, y_test = train_test_split(X, y, test_size=0.2, stratify=y,random_state=42)"
      ],
      "metadata": {
        "id": "c5-4DcNOzCah",
        "execution": {
          "iopub.status.busy": "2022-03-14T14:11:55.499629Z",
          "iopub.execute_input": "2022-03-14T14:11:55.499892Z",
          "iopub.status.idle": "2022-03-14T14:11:56.219273Z",
          "shell.execute_reply.started": "2022-03-14T14:11:55.499858Z",
          "shell.execute_reply": "2022-03-14T14:11:56.21856Z"
        },
        "trusted": true
      },
      "execution_count": 12,
      "outputs": []
    },
    {
      "cell_type": "markdown",
      "source": [
        "# ML-model (LinearSVC)"
      ],
      "metadata": {
        "id": "TYBbMP2IZV3S"
      }
    },
    {
      "cell_type": "code",
      "source": [
        "tf=TfidfVectorizer(analyzer='char_wb', ngram_range=(2, 5),max_df=0.5,min_df=20)\n",
        "clf=LinearSVC()#class_weight='balanced'\n",
        "\n",
        "\n",
        "pipeline = make_pipeline(tf,clf)"
      ],
      "metadata": {
        "execution": {
          "iopub.status.busy": "2022-03-14T13:38:53.436016Z",
          "iopub.status.idle": "2022-03-14T13:38:53.436797Z",
          "shell.execute_reply.started": "2022-03-14T13:38:53.436549Z",
          "shell.execute_reply": "2022-03-14T13:38:53.436588Z"
        },
        "trusted": true,
        "id": "rqcHIwdkZV3S"
      },
      "execution_count": 13,
      "outputs": []
    },
    {
      "cell_type": "code",
      "source": [
        "pipeline.fit(X_train, y_train)"
      ],
      "metadata": {
        "execution": {
          "iopub.status.busy": "2022-03-14T13:38:53.437928Z",
          "iopub.status.idle": "2022-03-14T13:38:53.438652Z",
          "shell.execute_reply.started": "2022-03-14T13:38:53.438398Z",
          "shell.execute_reply": "2022-03-14T13:38:53.438424Z"
        },
        "trusted": true,
        "colab": {
          "base_uri": "https://localhost:8080/"
        },
        "id": "v3zpExCyZV3S",
        "outputId": "286dda32-5a0f-4e32-9ff1-6526ada3979e"
      },
      "execution_count": 14,
      "outputs": [
        {
          "output_type": "execute_result",
          "data": {
            "text/plain": [
              "Pipeline(steps=[('tfidfvectorizer',\n",
              "                 TfidfVectorizer(analyzer='char_wb', max_df=0.5, min_df=20,\n",
              "                                 ngram_range=(2, 5))),\n",
              "                ('linearsvc', LinearSVC())])"
            ]
          },
          "metadata": {},
          "execution_count": 14
        }
      ]
    },
    {
      "cell_type": "code",
      "source": [
        "def print_report(pipe, x_test, y_test):\n",
        "    y_pred = pipe.predict(x_test)\n",
        "    report = metrics.classification_report(y_test, y_pred)\n",
        "    print(report)\n",
        "    print(\"accuracy: {:0.3f}\".format(metrics.accuracy_score(y_test, y_pred)))\n",
        "    \n",
        "\n",
        "print_report(pipeline, X_test, y_test)"
      ],
      "metadata": {
        "execution": {
          "iopub.status.busy": "2022-03-14T13:38:53.439756Z",
          "iopub.status.idle": "2022-03-14T13:38:53.440533Z",
          "shell.execute_reply.started": "2022-03-14T13:38:53.440264Z",
          "shell.execute_reply": "2022-03-14T13:38:53.440295Z"
        },
        "trusted": true,
        "colab": {
          "base_uri": "https://localhost:8080/"
        },
        "id": "Vyt67YfzZV3T",
        "outputId": "2a286407-dcea-44cc-aae5-9e1f495d13a9"
      },
      "execution_count": 15,
      "outputs": [
        {
          "output_type": "stream",
          "name": "stdout",
          "text": [
            "              precision    recall  f1-score   support\n",
            "\n",
            "          AE       0.46      0.44      0.45      5259\n",
            "          BH       0.42      0.35      0.38      5258\n",
            "          DZ       0.64      0.58      0.61      3237\n",
            "          EG       0.73      0.87      0.80     11527\n",
            "          IQ       0.64      0.60      0.62      3099\n",
            "          JO       0.46      0.37      0.41      5584\n",
            "          KW       0.52      0.62      0.56      8422\n",
            "          LB       0.64      0.70      0.67      5524\n",
            "          LY       0.67      0.72      0.70      7300\n",
            "          MA       0.75      0.64      0.69      2308\n",
            "          OM       0.45      0.40      0.43      3823\n",
            "          PL       0.51      0.57      0.54      8749\n",
            "          QA       0.50      0.50      0.50      6214\n",
            "          SA       0.44      0.47      0.45      5367\n",
            "          SD       0.71      0.61      0.66      2887\n",
            "          SY       0.48      0.34      0.40      3248\n",
            "          TN       0.69      0.48      0.57      1849\n",
            "          YE       0.44      0.23      0.30      1985\n",
            "\n",
            "    accuracy                           0.57     91640\n",
            "   macro avg       0.56      0.53      0.54     91640\n",
            "weighted avg       0.56      0.57      0.56     91640\n",
            "\n",
            "accuracy: 0.570\n"
          ]
        }
      ]
    },
    {
      "cell_type": "markdown",
      "source": [
        "# preparing data for deep learning"
      ],
      "metadata": {
        "id": "SxadbU1kZV3T"
      }
    },
    {
      "cell_type": "code",
      "source": [
        "# initialize Tokenizer to encode strings into integers\n",
        "tokenizer = Tokenizer()\n",
        "\n",
        "# calculate number of rows in our dataset\n",
        "# num_rows = df_train.shape[0]\n",
        "\n",
        "# create vocabulary from all words in our dataset for encoding\n",
        "tokenizer.fit_on_texts(X_train)\n",
        "\n",
        "# max length of 1 row (number of words)\n",
        "row_max_length = 50\n",
        "\n",
        "# count number of unique words\n",
        "vocabulary_size = len(tokenizer.word_index) + 1\n",
        "\n",
        "# convert words into integers\n",
        "X_train_tokens = tokenizer.texts_to_sequences(X_train)\n",
        "X_test_tokens = tokenizer.texts_to_sequences(X_test)\n",
        "# X_sub_tokens = tokenizer.texts_to_sequences(df_submission['Phrase'].values)\n",
        "\n",
        "# ensure every row has same size - pad missing with zeros\n",
        "X_train_pad = pad_sequences(X_train_tokens, maxlen=row_max_length, padding='post')\n",
        "X_test_pad = pad_sequences(X_test_tokens, maxlen=row_max_length, padding='post')\n",
        "# X_sub_pad = pad_sequences(X_sub_tokens, maxlen=row_max_length, padding='post')\n",
        "\n",
        "print(X_train_pad.shape,X_test_pad.shape)"
      ],
      "metadata": {
        "execution": {
          "iopub.status.busy": "2022-03-14T14:12:03.97503Z",
          "iopub.execute_input": "2022-03-14T14:12:03.975711Z",
          "iopub.status.idle": "2022-03-14T14:12:26.80697Z",
          "shell.execute_reply.started": "2022-03-14T14:12:03.975666Z",
          "shell.execute_reply": "2022-03-14T14:12:26.806187Z"
        },
        "trusted": true,
        "colab": {
          "base_uri": "https://localhost:8080/"
        },
        "id": "l5QktPzDZV3T",
        "outputId": "e52ccbc2-8fe2-45eb-c75b-0f2753ff3793"
      },
      "execution_count": 17,
      "outputs": [
        {
          "output_type": "stream",
          "name": "stdout",
          "text": [
            "(366557, 50) (91640, 50)\n"
          ]
        }
      ]
    },
    {
      "cell_type": "code",
      "source": [
        "encoder = LabelEncoder()\n",
        "y_encoded_tr = encoder.fit_transform(y_train)\n",
        "y_encoded_tr = to_categorical(y_encoded_tr)\n",
        "y_encoded_ts = encoder.transform(y_test)\n",
        "y_encoded_ts = to_categorical(y_encoded_ts)\n",
        "print(y_encoded_tr.shape,y_encoded_ts.shape)"
      ],
      "metadata": {
        "execution": {
          "iopub.status.busy": "2022-03-14T14:12:26.808425Z",
          "iopub.execute_input": "2022-03-14T14:12:26.809395Z",
          "iopub.status.idle": "2022-03-14T14:12:26.946849Z",
          "shell.execute_reply.started": "2022-03-14T14:12:26.809357Z",
          "shell.execute_reply": "2022-03-14T14:12:26.945961Z"
        },
        "trusted": true,
        "colab": {
          "base_uri": "https://localhost:8080/"
        },
        "id": "9b3Mpui_ZV3U",
        "outputId": "2a092106-a3be-4c6e-f5e7-6474328235a7"
      },
      "execution_count": 18,
      "outputs": [
        {
          "output_type": "stream",
          "name": "stdout",
          "text": [
            "(366557, 18) (91640, 18)\n"
          ]
        }
      ]
    },
    {
      "cell_type": "markdown",
      "source": [
        "# **CNN**"
      ],
      "metadata": {
        "id": "okF0ToowZV3U"
      }
    },
    {
      "cell_type": "code",
      "source": [
        "EMBEDDING_DIM = 512\n",
        "# row_max_length = 50\n",
        "filter_sizes=[2,3,4,5]\n",
        "embedding_dim=512\n",
        "num_filters=512\n",
        "MAX_SEQUENCE_LENGTH =50"
      ],
      "metadata": {
        "execution": {
          "iopub.status.busy": "2022-03-14T14:12:26.948031Z",
          "iopub.execute_input": "2022-03-14T14:12:26.94835Z",
          "iopub.status.idle": "2022-03-14T14:12:26.954065Z",
          "shell.execute_reply.started": "2022-03-14T14:12:26.948306Z",
          "shell.execute_reply": "2022-03-14T14:12:26.95321Z"
        },
        "trusted": true,
        "id": "MRkIHzdcZV3U"
      },
      "execution_count": 19,
      "outputs": []
    },
    {
      "cell_type": "code",
      "source": [
        "embedding_layer = Embedding(vocabulary_size, EMBEDDING_DIM, input_length=row_max_length,trainable=True)\n",
        "inputs = Input(shape=(row_max_length,), dtype='int32')\n",
        "embedding = embedding_layer(inputs)\n",
        "\n",
        "print(embedding.shape)\n",
        "reshape = Reshape((row_max_length,EMBEDDING_DIM,1))(embedding)\n",
        "print(reshape.shape)\n",
        "\n",
        "conv_0 = Conv2D(num_filters, kernel_size=(filter_sizes[0], embedding_dim), padding='valid', kernel_initializer='normal', activation='relu')(reshape)\n",
        "conv_1 = Conv2D(num_filters, kernel_size=(filter_sizes[1], embedding_dim), padding='valid', kernel_initializer='normal', activation='relu')(reshape)\n",
        "conv_2 = Conv2D(num_filters, kernel_size=(filter_sizes[2], embedding_dim), padding='valid', kernel_initializer='normal', activation='relu')(reshape)\n",
        "conv_3 = Conv2D(num_filters, kernel_size=(filter_sizes[3], embedding_dim), padding='valid', kernel_initializer='normal', activation='relu')(reshape)\n",
        "\n",
        "maxpool_0 = MaxPool2D(pool_size=(MAX_SEQUENCE_LENGTH - filter_sizes[0] + 1, 1), strides=(1,1), padding='valid')(conv_0)\n",
        "maxpool_1 = MaxPool2D(pool_size=(MAX_SEQUENCE_LENGTH - filter_sizes[1] + 1, 1), strides=(1,1), padding='valid')(conv_1)\n",
        "maxpool_2 = MaxPool2D(pool_size=(MAX_SEQUENCE_LENGTH - filter_sizes[2] + 1, 1), strides=(1,1), padding='valid')(conv_2)\n",
        "maxpool_3 = MaxPool2D(pool_size=(MAX_SEQUENCE_LENGTH - filter_sizes[3] + 1, 1), strides=(1,1), padding='valid')(conv_3)\n",
        "\n",
        "concatenated_tensor = Concatenate(axis=1)([maxpool_0, maxpool_1, maxpool_2,maxpool_3])\n",
        "flatten = Flatten()(concatenated_tensor)\n",
        "\n",
        "dropout = Dropout(.5)(flatten)\n",
        "den = Dense(1024, activation='relu')(dropout)\n",
        "dropout_2 = Dropout(.2)(den)\n",
        "output = Dense(len(encoder.classes_), activation='softmax')(dropout_2)\n",
        "\n",
        "# this creates a model that includes\n",
        "model = Model(inputs=inputs, outputs=output)\n",
        "\n",
        "checkpoint = ModelCheckpoint('weights_cnn_sentece.hdf5', monitor='val_accuracy', verbose=1, save_best_only=True, mode='auto')#monitor='val_accuracy'\n",
        "# adam = Adam(learning_rate=1e-4, beta_1=0.9, beta_2=0.999, epsilon=1e-08, decay=0.0)\n",
        "\n",
        "model.compile(optimizer='adam', loss='categorical_crossentropy', metrics=['accuracy'])\n",
        "model.summary()"
      ],
      "metadata": {
        "id": "NGZaQlMu0xPJ",
        "execution": {
          "iopub.status.busy": "2022-03-14T13:38:53.447401Z",
          "iopub.status.idle": "2022-03-14T13:38:53.448201Z",
          "shell.execute_reply.started": "2022-03-14T13:38:53.447962Z",
          "shell.execute_reply": "2022-03-14T13:38:53.447988Z"
        },
        "trusted": true,
        "colab": {
          "base_uri": "https://localhost:8080/"
        },
        "outputId": "1240cf50-2223-4d33-cfcb-560ca7e6c389"
      },
      "execution_count": 20,
      "outputs": [
        {
          "output_type": "stream",
          "name": "stdout",
          "text": [
            "(None, 50, 512)\n",
            "(None, 50, 512, 1)\n",
            "Model: \"model\"\n",
            "__________________________________________________________________________________________________\n",
            " Layer (type)                   Output Shape         Param #     Connected to                     \n",
            "==================================================================================================\n",
            " input_1 (InputLayer)           [(None, 50)]         0           []                               \n",
            "                                                                                                  \n",
            " embedding (Embedding)          (None, 50, 512)      230583296   ['input_1[0][0]']                \n",
            "                                                                                                  \n",
            " reshape (Reshape)              (None, 50, 512, 1)   0           ['embedding[0][0]']              \n",
            "                                                                                                  \n",
            " conv2d (Conv2D)                (None, 49, 1, 512)   524800      ['reshape[0][0]']                \n",
            "                                                                                                  \n",
            " conv2d_1 (Conv2D)              (None, 48, 1, 512)   786944      ['reshape[0][0]']                \n",
            "                                                                                                  \n",
            " conv2d_2 (Conv2D)              (None, 47, 1, 512)   1049088     ['reshape[0][0]']                \n",
            "                                                                                                  \n",
            " conv2d_3 (Conv2D)              (None, 46, 1, 512)   1311232     ['reshape[0][0]']                \n",
            "                                                                                                  \n",
            " max_pooling2d (MaxPooling2D)   (None, 1, 1, 512)    0           ['conv2d[0][0]']                 \n",
            "                                                                                                  \n",
            " max_pooling2d_1 (MaxPooling2D)  (None, 1, 1, 512)   0           ['conv2d_1[0][0]']               \n",
            "                                                                                                  \n",
            " max_pooling2d_2 (MaxPooling2D)  (None, 1, 1, 512)   0           ['conv2d_2[0][0]']               \n",
            "                                                                                                  \n",
            " max_pooling2d_3 (MaxPooling2D)  (None, 1, 1, 512)   0           ['conv2d_3[0][0]']               \n",
            "                                                                                                  \n",
            " concatenate (Concatenate)      (None, 4, 1, 512)    0           ['max_pooling2d[0][0]',          \n",
            "                                                                  'max_pooling2d_1[0][0]',        \n",
            "                                                                  'max_pooling2d_2[0][0]',        \n",
            "                                                                  'max_pooling2d_3[0][0]']        \n",
            "                                                                                                  \n",
            " flatten (Flatten)              (None, 2048)         0           ['concatenate[0][0]']            \n",
            "                                                                                                  \n",
            " dropout (Dropout)              (None, 2048)         0           ['flatten[0][0]']                \n",
            "                                                                                                  \n",
            " dense (Dense)                  (None, 1024)         2098176     ['dropout[0][0]']                \n",
            "                                                                                                  \n",
            " dropout_1 (Dropout)            (None, 1024)         0           ['dense[0][0]']                  \n",
            "                                                                                                  \n",
            " dense_1 (Dense)                (None, 18)           18450       ['dropout_1[0][0]']              \n",
            "                                                                                                  \n",
            "==================================================================================================\n",
            "Total params: 236,371,986\n",
            "Trainable params: 236,371,986\n",
            "Non-trainable params: 0\n",
            "__________________________________________________________________________________________________\n"
          ]
        }
      ]
    },
    {
      "cell_type": "code",
      "source": [
        "Cnn_1st=model.fit(X_train_pad, y_encoded_tr, validation_split = .1,epochs=5, batch_size=32,callbacks=[checkpoint])"
      ],
      "metadata": {
        "id": "xHQ43Lv8JtIa",
        "execution": {
          "iopub.status.busy": "2022-03-14T13:38:53.449159Z",
          "iopub.status.idle": "2022-03-14T13:38:53.449956Z",
          "shell.execute_reply.started": "2022-03-14T13:38:53.44971Z",
          "shell.execute_reply": "2022-03-14T13:38:53.449736Z"
        },
        "trusted": true,
        "colab": {
          "base_uri": "https://localhost:8080/"
        },
        "outputId": "92133676-a297-4d29-8869-a2ea9f30d64a"
      },
      "execution_count": null,
      "outputs": [
        {
          "output_type": "stream",
          "name": "stdout",
          "text": [
            "Epoch 1/5\n",
            "10310/10310 [==============================] - ETA: 0s - loss: 1.8164 - accuracy: 0.4374\n",
            "Epoch 1: val_accuracy improved from -inf to 0.51105, saving model to weights_cnn_sentece.hdf5\n",
            "10310/10310 [==============================] - 2669s 256ms/step - loss: 1.8164 - accuracy: 0.4374 - val_loss: 1.5789 - val_accuracy: 0.5110\n",
            "Epoch 2/5\n",
            " 5212/10310 [==============>...............] - ETA: 21:06 - loss: 1.2311 - accuracy: 0.6220"
          ]
        }
      ]
    },
    {
      "cell_type": "code",
      "source": [
        "\n",
        "learning_data = pd.DataFrame(Cnn_1st.history)\n",
        "# learning_data.head()\n",
        "learning_data.plot(figsize=(10,5))\n",
        "plt.grid(True)\n",
        "plt.show()"
      ],
      "metadata": {
        "id": "Wb7lFBnIJ1TN",
        "execution": {
          "iopub.status.busy": "2022-03-14T13:38:53.451094Z",
          "iopub.status.idle": "2022-03-14T13:38:53.451898Z",
          "shell.execute_reply.started": "2022-03-14T13:38:53.451642Z",
          "shell.execute_reply": "2022-03-14T13:38:53.451669Z"
        },
        "trusted": true
      },
      "execution_count": null,
      "outputs": []
    },
    {
      "cell_type": "code",
      "source": [
        "fig1 = plt.figure()\n",
        "plt.plot(Cnn_1st.history['loss'],'r',linewidth=3.0)\n",
        "plt.plot(Cnn_1st.history['val_loss'],'b',linewidth=3.0)\n",
        "plt.legend(['Training loss', 'Validation Loss'],fontsize=18)\n",
        "plt.xlabel('Epochs ',fontsize=16)\n",
        "plt.ylabel('Loss',fontsize=16)\n",
        "plt.title('Loss Curves :Bi-GRU',fontsize=16)\n",
        "plt.show()"
      ],
      "metadata": {
        "execution": {
          "iopub.status.busy": "2022-03-14T13:38:53.453024Z",
          "iopub.status.idle": "2022-03-14T13:38:53.453807Z",
          "shell.execute_reply.started": "2022-03-14T13:38:53.453573Z",
          "shell.execute_reply": "2022-03-14T13:38:53.453598Z"
        },
        "trusted": true,
        "id": "Uxmi8MADZV3W"
      },
      "execution_count": null,
      "outputs": []
    },
    {
      "cell_type": "code",
      "source": [
        "model.evaluate(X_test_pad, y_encoded_ts)"
      ],
      "metadata": {
        "execution": {
          "iopub.status.busy": "2022-03-14T13:38:53.454892Z",
          "iopub.status.idle": "2022-03-14T13:38:53.455656Z",
          "shell.execute_reply.started": "2022-03-14T13:38:53.455399Z",
          "shell.execute_reply": "2022-03-14T13:38:53.455426Z"
        },
        "trusted": true,
        "id": "Da8Evim_ZV3W"
      },
      "execution_count": null,
      "outputs": []
    },
    {
      "cell_type": "code",
      "source": [
        "y_pred = np.round(model.predict(X_test_pad))#np.round"
      ],
      "metadata": {
        "execution": {
          "iopub.status.busy": "2022-03-14T13:38:53.456764Z",
          "iopub.status.idle": "2022-03-14T13:38:53.457531Z",
          "shell.execute_reply.started": "2022-03-14T13:38:53.457297Z",
          "shell.execute_reply": "2022-03-14T13:38:53.457322Z"
        },
        "trusted": true,
        "id": "21C9ONPHZV3W"
      },
      "execution_count": null,
      "outputs": []
    },
    {
      "cell_type": "code",
      "source": [
        "print(classification_report(y_encoded_ts,y_pred,target_names=encoder.classes_))\n",
        "print(\"accuracy: {:0.3f}\".format(metrics.accuracy_score(y_encoded_ts, y_pred)))\n",
        "# print(\"accuracy: {:0.3f}\".format(metrics.f1_score(y_encoded_ts, y_pred)))\n"
      ],
      "metadata": {
        "execution": {
          "iopub.status.busy": "2022-03-14T13:38:53.458626Z",
          "iopub.status.idle": "2022-03-14T13:38:53.459354Z",
          "shell.execute_reply.started": "2022-03-14T13:38:53.459122Z",
          "shell.execute_reply": "2022-03-14T13:38:53.459147Z"
        },
        "trusted": true,
        "id": "JumweftWZV3W"
      },
      "execution_count": null,
      "outputs": []
    },
    {
      "cell_type": "markdown",
      "source": [
        "# GRU"
      ],
      "metadata": {
        "id": "9G8eavTTZV3X"
      }
    },
    {
      "cell_type": "code",
      "source": [
        "import pandas as pd\n",
        "import numpy as np\n",
        "from sklearn.model_selection import train_test_split\n",
        "\n",
        "import tensorflow as tf\n",
        "from tensorflow.keras.preprocessing.text import Tokenizer\n",
        "from tensorflow.keras.preprocessing.sequence import pad_sequences\n",
        "from tensorflow.keras.models import Sequential\n",
        "from tensorflow.keras.layers import Embedding, Dense, GRU, Dropout, Bidirectional, SpatialDropout1D\n",
        "from tensorflow.keras.utils import to_categorical"
      ],
      "metadata": {
        "execution": {
          "iopub.status.busy": "2022-03-14T14:12:26.956147Z",
          "iopub.execute_input": "2022-03-14T14:12:26.956492Z",
          "iopub.status.idle": "2022-03-14T14:12:26.965734Z",
          "shell.execute_reply.started": "2022-03-14T14:12:26.956402Z",
          "shell.execute_reply": "2022-03-14T14:12:26.965058Z"
        },
        "trusted": true,
        "id": "jPm-pS5gZV3X"
      },
      "execution_count": null,
      "outputs": []
    },
    {
      "cell_type": "code",
      "source": [
        "EMBEDDING_DIM = 512\n",
        "\n",
        "model = Sequential()\n",
        "model.add(Embedding(vocabulary_size, EMBEDDING_DIM, input_length=row_max_length))\n",
        "model.add(SpatialDropout1D(0.2))\n",
        "model.add(Bidirectional(GRU(128)))\n",
        "model.add(Dense(128, activation='tanh'))\n",
        "model.add(Dropout(0.2))\n",
        "model.add(Dense(len(encoder.classes_), activation='softmax'))\n",
        "model.compile(loss='categorical_crossentropy', optimizer='adam', metrics=['accuracy'])\n",
        "\n",
        "callback = tf.keras.callbacks.EarlyStopping(monitor='val_loss', patience=4)\n",
        "history = model.fit(X_train_pad, y_encoded_tr, epochs=8,validation_split = 0.1, batch_size=128, callbacks=[callback])#save_best_only=True ,monitor='val_accuracy'"
      ],
      "metadata": {
        "execution": {
          "iopub.status.busy": "2022-03-14T14:12:26.968489Z",
          "iopub.execute_input": "2022-03-14T14:12:26.969486Z",
          "iopub.status.idle": "2022-03-14T14:29:05.481291Z",
          "shell.execute_reply.started": "2022-03-14T14:12:26.969448Z",
          "shell.execute_reply": "2022-03-14T14:29:05.480548Z"
        },
        "trusted": true,
        "id": "Bz762l26ZV3X"
      },
      "execution_count": null,
      "outputs": []
    },
    {
      "cell_type": "code",
      "source": [
        "model.summary()"
      ],
      "metadata": {
        "execution": {
          "iopub.status.busy": "2022-03-14T14:29:05.483618Z",
          "iopub.execute_input": "2022-03-14T14:29:05.483915Z",
          "iopub.status.idle": "2022-03-14T14:29:05.492908Z",
          "shell.execute_reply.started": "2022-03-14T14:29:05.483868Z",
          "shell.execute_reply": "2022-03-14T14:29:05.492186Z"
        },
        "trusted": true,
        "id": "O3ajk4wEZV3Y"
      },
      "execution_count": null,
      "outputs": []
    },
    {
      "cell_type": "code",
      "source": [
        "learning_data = pd.DataFrame(history.history)\n",
        "# learning_data.head()\n",
        "learning_data.plot(figsize=(10,5))\n",
        "plt.grid(True)\n",
        "plt.show()"
      ],
      "metadata": {
        "execution": {
          "iopub.status.busy": "2022-03-14T14:29:05.494016Z",
          "iopub.execute_input": "2022-03-14T14:29:05.494593Z",
          "iopub.status.idle": "2022-03-14T14:30:03.776731Z",
          "shell.execute_reply.started": "2022-03-14T14:29:05.494198Z",
          "shell.execute_reply": "2022-03-14T14:30:03.776053Z"
        },
        "trusted": true,
        "id": "7K2GLmpeZV3Y"
      },
      "execution_count": null,
      "outputs": []
    },
    {
      "cell_type": "code",
      "source": [
        "fig1 = plt.figure()\n",
        "plt.plot(history.history['loss'],'r',linewidth=3.0)\n",
        "plt.plot(history.history['val_loss'],'b',linewidth=3.0)\n",
        "plt.legend(['Training loss', 'Validation Loss'],fontsize=18)\n",
        "plt.xlabel('Epochs ',fontsize=16)\n",
        "plt.ylabel('Loss',fontsize=16)\n",
        "plt.title('Loss Curves :Bi-GRU',fontsize=16)\n",
        "plt.show()"
      ],
      "metadata": {
        "execution": {
          "iopub.status.busy": "2022-03-14T14:30:03.77798Z",
          "iopub.execute_input": "2022-03-14T14:30:03.778416Z",
          "iopub.status.idle": "2022-03-14T14:30:03.990922Z",
          "shell.execute_reply.started": "2022-03-14T14:30:03.778377Z",
          "shell.execute_reply": "2022-03-14T14:30:03.990039Z"
        },
        "trusted": true,
        "id": "QtblRFcpZV3Y"
      },
      "execution_count": null,
      "outputs": []
    },
    {
      "cell_type": "code",
      "source": [
        "model.evaluate(X_test_pad, y_encoded_ts)"
      ],
      "metadata": {
        "execution": {
          "iopub.status.busy": "2022-03-14T14:30:03.992496Z",
          "iopub.execute_input": "2022-03-14T14:30:03.992929Z",
          "iopub.status.idle": "2022-03-14T14:30:19.920113Z",
          "shell.execute_reply.started": "2022-03-14T14:30:03.99289Z",
          "shell.execute_reply": "2022-03-14T14:30:19.919427Z"
        },
        "trusted": true,
        "id": "UIb1eLCwZV3Y"
      },
      "execution_count": null,
      "outputs": []
    },
    {
      "cell_type": "code",
      "source": [
        "y_pred = np.round(model.predict(X_test_pad))\n"
      ],
      "metadata": {
        "execution": {
          "iopub.status.busy": "2022-03-14T14:56:33.648893Z",
          "iopub.execute_input": "2022-03-14T14:56:33.64967Z",
          "iopub.status.idle": "2022-03-14T14:56:54.165436Z",
          "shell.execute_reply.started": "2022-03-14T14:56:33.649626Z",
          "shell.execute_reply": "2022-03-14T14:56:54.164685Z"
        },
        "trusted": true,
        "id": "1Xa-xRoiZV3Y"
      },
      "execution_count": null,
      "outputs": []
    },
    {
      "cell_type": "code",
      "source": [
        "print(classification_report(y_encoded_ts,y_pred,target_names=encoder.classes_))\n",
        "print(\"accuracy: {:0.3f}\".format(metrics.accuracy_score(y_encoded_ts, y_pred)))\n",
        "# print(\"accuracy: {:0.3f}\".format(metrics.f1_score(y_encoded_ts, y_pred)))"
      ],
      "metadata": {
        "execution": {
          "iopub.status.busy": "2022-03-14T14:58:13.916193Z",
          "iopub.execute_input": "2022-03-14T14:58:13.91699Z",
          "iopub.status.idle": "2022-03-14T14:58:14.18434Z",
          "shell.execute_reply.started": "2022-03-14T14:58:13.916953Z",
          "shell.execute_reply": "2022-03-14T14:58:14.183582Z"
        },
        "trusted": true,
        "id": "Hd0vi7ELZV3Z"
      },
      "execution_count": null,
      "outputs": []
    },
    {
      "cell_type": "code",
      "source": [
        ""
      ],
      "metadata": {
        "id": "I8BQ89_dgLHs"
      },
      "execution_count": null,
      "outputs": []
    },
    {
      "cell_type": "markdown",
      "source": [
        "coclusion :\n",
        "\n",
        "savinvg svc model"
      ],
      "metadata": {
        "id": "7MZ9W6HTzwYN"
      }
    },
    {
      "cell_type": "code",
      "source": [
        "import pickle"
      ],
      "metadata": {
        "id": "jaswQE3S0xn2"
      },
      "execution_count": 16,
      "outputs": []
    },
    {
      "cell_type": "code",
      "source": [
        "# save the model to disk\n",
        "filename = 'svc_pipe_model'\n",
        "pickle.dump(pipeline, open(filename, 'wb'))"
      ],
      "metadata": {
        "id": "nlKfeeToz5cD"
      },
      "execution_count": 17,
      "outputs": []
    },
    {
      "cell_type": "code",
      "source": [
        ""
      ],
      "metadata": {
        "id": "aPelrPdw1C5K"
      },
      "execution_count": null,
      "outputs": []
    }
  ]
}